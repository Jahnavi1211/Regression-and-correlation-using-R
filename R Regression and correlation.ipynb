{
 "cells": [
  {
   "cell_type": "markdown",
   "metadata": {
    "id": "4fNBM2iAQFE_"
   },
   "source": [
    "<span style=\"color: #111; font-family: 'Open Sans', sans-serif; font-size: 30px; font-weight: 300; line-height: 32px; margin: 0 0 72px; text-align: center;\"> Regression and Correlation</span>\n",
    "---\n",
    "<span style=\"color: #111; font-family: 'Open Sans', sans-serif; font-size: 20px; font-weight: 300; line-height: 32px; margin: 0 0 72px; text-align: center;\"> Jahnavi Tallapally, 17070124027</span>"
   ]
  },
  {
   "cell_type": "markdown",
   "metadata": {
    "id": "1FEhOG6OQFFI"
   },
   "source": [
    "### Problem Statement : To Perform correlation and regression analysis in R"
   ]
  },
  {
   "cell_type": "code",
   "execution_count": null,
   "metadata": {
    "id": "8RDu33uqQFFJ",
    "outputId": "88459e02-83c8-4fdd-b538-f34f63c64389"
   },
   "outputs": [
    {
     "name": "stdout",
     "output_type": "stream",
     "text": [
      "              date Temperature Humidity    Light      CO2 HumidityRatio\n",
      "1 02-02-2015 14:19     23.7000   26.272 585.2000 749.2000   0.004764163\n",
      "2 02-02-2015 14:19     23.7180   26.290 578.4000 760.4000   0.004772661\n",
      "3 02-02-2015 14:21     23.7300   26.230 572.6667 769.6667   0.004765153\n",
      "4 02-02-2015 14:22     23.7225   26.125 493.7500 774.7500   0.004743773\n",
      "5 02-02-2015 14:23     23.7540   26.200 488.6000 779.0000   0.004766594\n",
      "6 02-02-2015 14:23     23.7600   26.260 568.6667 790.0000   0.004779332\n",
      "  Occupancy\n",
      "1         1\n",
      "2         1\n",
      "3         1\n",
      "4         1\n",
      "5         1\n",
      "6         1\n"
     ]
    }
   ],
   "source": [
    "data <- read.csv(\"occupancy.csv\")\n",
    "#  data<-data[sample(nrow(data)),] Shuffle dataset\n",
    "print(head(data))"
   ]
  },
  {
   "cell_type": "markdown",
   "metadata": {
    "id": "vkc-YoerQFFM"
   },
   "source": [
    "### 1.1 Pearson  Correlation"
   ]
  },
  {
   "cell_type": "markdown",
   "metadata": {
    "id": "MhT0-eLuQFFO"
   },
   "source": [
    "To calculate Pearson correlation,   \n",
    "we can use the **cor()** function.   \n",
    "The default method for cor() is the Pearson correlation.  \n",
    "  \n",
    "  Getting a correlation is generally only half the story, and you may want to know if the relationship is statistically significantly different from 0.\n",
    "- H0: There is no correlation between the two variables: ρ = 0\n",
    "- Ha: There is a nonzero correlation between the two variables: ρ ≠ 0\n"
   ]
  },
  {
   "cell_type": "code",
   "execution_count": null,
   "metadata": {
    "id": "d3cbeVrmQFFP",
    "outputId": "738f582c-672a-4e1d-e9bd-bdc138cf7fa3"
   },
   "outputs": [
    {
     "data": {
      "text/html": [
       "-0.156963500107466"
      ],
      "text/latex": [
       "-0.156963500107466"
      ],
      "text/markdown": [
       "-0.156963500107466"
      ],
      "text/plain": [
       "[1] -0.1569635"
      ]
     },
     "metadata": {
      "tags": []
     },
     "output_type": "display_data"
    }
   ],
   "source": [
    "cor(data$Temperature,data$Humidity,method='pearson')"
   ]
  },
  {
   "cell_type": "markdown",
   "metadata": {
    "id": "TtnKOcDdQFFR"
   },
   "source": [
    "So we can see that Temperature and Humidity are not correlated much with correlation coefficient -0.15 we can say that they are negligibly negatively correlated."
   ]
  },
  {
   "cell_type": "code",
   "execution_count": null,
   "metadata": {
    "id": "Pn3ToATHQFFS",
    "outputId": "62656e5d-3ee6-497a-8cb7-d2606433d5a6"
   },
   "outputs": [
    {
     "data": {
      "text/html": [
       "0.688571062107281"
      ],
      "text/latex": [
       "0.688571062107281"
      ],
      "text/markdown": [
       "0.688571062107281"
      ],
      "text/plain": [
       "[1] 0.6885711"
      ]
     },
     "metadata": {
      "tags": []
     },
     "output_type": "display_data"
    }
   ],
   "source": [
    "cor(data$Temperature,data$Light,method='pearson')"
   ]
  },
  {
   "cell_type": "markdown",
   "metadata": {
    "id": "1jy_7aKVQFFS"
   },
   "source": [
    "The variables Light and Temperature are highly correlated as correlation coefficient is 0.688. We can say that they are related. Obviously if the temperature is more, we feel the sun may be blazing and hence more would be the light , likewise in the night the temperature is also less."
   ]
  },
  {
   "cell_type": "code",
   "execution_count": null,
   "metadata": {
    "id": "5xQukfGhQFFT",
    "outputId": "695d447e-47d3-40ea-804a-0276206219bb"
   },
   "outputs": [
    {
     "data": {
      "text/plain": [
       "\n",
       "\tPearson's product-moment correlation\n",
       "\n",
       "data:  data$Temperature and data$Light\n",
       "t = 136.14, df = 20558, p-value < 2.2e-16\n",
       "alternative hypothesis: true correlation is not equal to 0\n",
       "95 percent confidence interval:\n",
       " 0.6813146 0.6956922\n",
       "sample estimates:\n",
       "      cor \n",
       "0.6885711 \n"
      ]
     },
     "metadata": {
      "tags": []
     },
     "output_type": "display_data"
    }
   ],
   "source": [
    "cor.test(data$Temperature,data$Light,method='pearson')"
   ]
  },
  {
   "cell_type": "code",
   "execution_count": null,
   "metadata": {
    "id": "yUEPsUoqQFFT",
    "outputId": "76225117-1779-43e3-ecad-ed90b6f2da84"
   },
   "outputs": [
    {
     "data": {
      "image/png": "[encoded data removed]",
      "text/plain": [
       "Plot with title \"\""
      ]
     },
     "metadata": {
      "image/png": {
       "height": 420,
       "width": 420
      },
      "tags": []
     },
     "output_type": "display_data"
    }
   ],
   "source": [
    "library(corrplot)\n",
    "corrplot(cor(data[,c(2,3,4,5,6,7)]),method=\"color\")"
   ]
  },
  {
   "cell_type": "code",
   "execution_count": null,
   "metadata": {
    "id": "LBBAwXEiQFFT"
   },
   "outputs": [],
   "source": [
    "data[,c(2,3,4,5,6,7)]"
   ]
  },
  {
   "cell_type": "markdown",
   "metadata": {
    "id": "lwtGKZcaQFFU"
   },
   "source": [
    "### 1.2 Spearmen Correlation"
   ]
  },
  {
   "cell_type": "markdown",
   "metadata": {
    "id": "eO5e3PSzQFFU"
   },
   "source": [
    "di is the difference in the ranked observations from each group, (xi – yi), and n is the sample size. "
   ]
  },
  {
   "cell_type": "code",
   "execution_count": null,
   "metadata": {
    "id": "kf-1CZm1QFFV",
    "outputId": "c16edebc-7e2d-4096-8e2f-f087b8089255"
   },
   "outputs": [
    {
     "data": {
      "text/html": [
       "-0.173271721096338"
      ],
      "text/latex": [
       "-0.173271721096338"
      ],
      "text/markdown": [
       "-0.173271721096338"
      ],
      "text/plain": [
       "[1] -0.1732717"
      ]
     },
     "metadata": {
      "tags": []
     },
     "output_type": "display_data"
    }
   ],
   "source": [
    "cor(data$Temperature,data$Humidity,method='spearman')"
   ]
  },
  {
   "cell_type": "code",
   "execution_count": null,
   "metadata": {
    "id": "OLlcgKvfQFFV",
    "outputId": "cc0a0d29-c847-4c46-a598-f4d18e11833a"
   },
   "outputs": [
    {
     "data": {
      "text/html": [
       "0.630649795328752"
      ],
      "text/latex": [
       "0.630649795328752"
      ],
      "text/markdown": [
       "0.630649795328752"
      ],
      "text/plain": [
       "[1] 0.6306498"
      ]
     },
     "metadata": {
      "tags": []
     },
     "output_type": "display_data"
    }
   ],
   "source": [
    "cor(data$Temperature,data$Light,method='spearman')"
   ]
  },
  {
   "cell_type": "code",
   "execution_count": null,
   "metadata": {
    "id": "WxCxFIOSQFFV",
    "outputId": "42c297b4-635c-4500-997a-6148488d7326"
   },
   "outputs": [
    {
     "name": "stderr",
     "output_type": "stream",
     "text": [
      "Warning message in cor.test.default(data$Temperature, data$Light, method = \"spearman\"):\n",
      "\"Cannot compute exact p-value with ties\"\n"
     ]
    },
    {
     "data": {
      "text/plain": [
       "\n",
       "\tSpearman's rank correlation rho\n",
       "\n",
       "data:  data$Temperature and data$Light\n",
       "S = 5.35e+11, p-value < 2.2e-16\n",
       "alternative hypothesis: true rho is not equal to 0\n",
       "sample estimates:\n",
       "      rho \n",
       "0.6306498 \n"
      ]
     },
     "metadata": {
      "tags": []
     },
     "output_type": "display_data"
    }
   ],
   "source": [
    "cor.test(data$Temperature,data$Light,method='spearman')"
   ]
  },
  {
   "cell_type": "markdown",
   "metadata": {
    "id": "X7DreDyzQFFW"
   },
   "source": [
    "### 1.3 Kendall Rank Correlation"
   ]
  },
  {
   "cell_type": "code",
   "execution_count": null,
   "metadata": {
    "id": "d2tWqgU_QFFW",
    "outputId": "d0a30f49-e12c-4c16-ad76-d492bd629645"
   },
   "outputs": [
    {
     "data": {
      "text/html": [
       "-0.110138570642479"
      ],
      "text/latex": [
       "-0.110138570642479"
      ],
      "text/markdown": [
       "-0.110138570642479"
      ],
      "text/plain": [
       "[1] -0.1101386"
      ]
     },
     "metadata": {
      "tags": []
     },
     "output_type": "display_data"
    }
   ],
   "source": [
    "cor(data$Temperature,data$Humidity,method='kendall')"
   ]
  },
  {
   "cell_type": "code",
   "execution_count": null,
   "metadata": {
    "id": "2r2zilVcQFFX",
    "outputId": "add68101-c8b7-48a9-be6e-a3a03612d3e3"
   },
   "outputs": [
    {
     "data": {
      "text/html": [
       "0.471971918611506"
      ],
      "text/latex": [
       "0.471971918611506"
      ],
      "text/markdown": [
       "0.471971918611506"
      ],
      "text/plain": [
       "[1] 0.4719719"
      ]
     },
     "metadata": {
      "tags": []
     },
     "output_type": "display_data"
    }
   ],
   "source": [
    "cor(data$Temperature,data$Light,method='kendall')"
   ]
  },
  {
   "cell_type": "code",
   "execution_count": null,
   "metadata": {
    "id": "vrEglbucQFFX",
    "outputId": "56d88e68-b354-4156-a4e8-62e99dcad53c"
   },
   "outputs": [
    {
     "data": {
      "text/plain": [
       "\n",
       "\tKendall's rank correlation tau\n",
       "\n",
       "data:  data$Temperature and data$Light\n",
       "z = 90.23, p-value < 2.2e-16\n",
       "alternative hypothesis: true tau is not equal to 0\n",
       "sample estimates:\n",
       "      tau \n",
       "0.4719719 \n"
      ]
     },
     "metadata": {
      "tags": []
     },
     "output_type": "display_data"
    }
   ],
   "source": [
    "cor.test(data$Temperature,data$Light,method='kendall')"
   ]
  },
  {
   "cell_type": "markdown",
   "metadata": {
    "id": "eVNnQ2lVQFFY"
   },
   "source": [
    "## 2.  Regression Analysis"
   ]
  },
  {
   "cell_type": "markdown",
   "metadata": {
    "id": "AEz4KsZ4QFFY"
   },
   "source": [
    "As this is a classification task where we have to predict whether on the input light, temperature, etc. we can predict if the room would be Occupied or not. So for this type of tasks, We can implement Logistic Regression or Decision tree like of Analysis"
   ]
  },
  {
   "cell_type": "code",
   "execution_count": null,
   "metadata": {
    "id": "8-xC_yWYQFFY"
   },
   "outputs": [],
   "source": [
    "library(caTools)"
   ]
  },
  {
   "cell_type": "markdown",
   "metadata": {
    "id": "3R0Z7UE5QFFZ"
   },
   "source": [
    "### 2.1 Logistic Regression"
   ]
  },
  {
   "cell_type": "code",
   "execution_count": null,
   "metadata": {
    "id": "_FjEXljRQFFZ"
   },
   "outputs": [],
   "source": [
    "set.seed(42)\n",
    "split <- sample.split(data$Occupancy, SplitRatio = 0.75)"
   ]
  },
  {
   "cell_type": "code",
   "execution_count": null,
   "metadata": {
    "id": "yZ-hGH60QFFZ"
   },
   "outputs": [],
   "source": [
    "occtrain <- subset(data[,c(2,3,4,5,6,7)], split == TRUE)\n",
    "occtest <- subset(data[,c(2,3,4,5,6,7)], split == FALSE)"
   ]
  },
  {
   "cell_type": "code",
   "execution_count": null,
   "metadata": {
    "id": "8pZ8FmzKQFFZ",
    "outputId": "b00be328-9151-40d8-f13e-509b1a750af0"
   },
   "outputs": [
    {
     "name": "stderr",
     "output_type": "stream",
     "text": [
      "Warning message:\n",
      "\"glm.fit: fitted probabilities numerically 0 or 1 occurred\"\n"
     ]
    },
    {
     "data": {
      "text/plain": [
       "\n",
       "Call:\n",
       "glm(formula = Occupancy ~ ., family = binomial, data = occtrain)\n",
       "\n",
       "Deviance Residuals: \n",
       "    Min       1Q   Median       3Q      Max  \n",
       "-7.4817  -0.0455  -0.0291  -0.0171   4.2048  \n",
       "\n",
       "Coefficients:\n",
       "                Estimate Std. Error z value Pr(>|z|)    \n",
       "(Intercept)    7.008e+01  1.352e+01   5.182 2.20e-07 ***\n",
       "Temperature   -3.855e+00  6.313e-01  -6.106 1.02e-09 ***\n",
       "Humidity      -1.699e+00  3.746e-01  -4.536 5.73e-06 ***\n",
       "Light          2.341e-02  6.483e-04  36.110  < 2e-16 ***\n",
       "CO2            3.496e-03  3.093e-04  11.306  < 2e-16 ***\n",
       "HumidityRatio  1.125e+04  2.362e+03   4.763 1.91e-06 ***\n",
       "---\n",
       "Signif. codes:  0 '***' 0.001 '**' 0.01 '*' 0.05 '.' 0.1 ' ' 1\n",
       "\n",
       "(Dispersion parameter for binomial family taken to be 1)\n",
       "\n",
       "    Null deviance: 16668.4  on 15419  degrees of freedom\n",
       "Residual deviance:  1649.3  on 15414  degrees of freedom\n",
       "AIC: 1661.3\n",
       "\n",
       "Number of Fisher Scoring iterations: 12\n"
      ]
     },
     "metadata": {
      "tags": []
     },
     "output_type": "display_data"
    }
   ],
   "source": [
    "#logistic regression model\n",
    "model <- glm (Occupancy ~ ., data = occtrain, family = binomial)\n",
    "summary(model)"
   ]
  },
  {
   "cell_type": "code",
   "execution_count": null,
   "metadata": {
    "id": "MNG1-4GQQFFa"
   },
   "outputs": [],
   "source": [
    "predict <- predict(model, type = 'response')"
   ]
  },
  {
   "cell_type": "code",
   "execution_count": null,
   "metadata": {
    "id": "9B-wOLo6QFFa",
    "outputId": "06e17581-9fcd-4d51-d712-b8a40217087d"
   },
   "outputs": [
    {
     "data": {
      "text/plain": [
       "   \n",
       "    FALSE  TRUE\n",
       "  0 11703   155\n",
       "  1    15  3547"
      ]
     },
     "metadata": {
      "tags": []
     },
     "output_type": "display_data"
    }
   ],
   "source": [
    "#confusion matrix\n",
    "table(occtrain$Occupancy, predict > 0.5)"
   ]
  },
  {
   "cell_type": "markdown",
   "metadata": {
    "id": "S09bucJfQFFa"
   },
   "source": [
    "<b> Accuracy = 98.987 % </b>"
   ]
  },
  {
   "cell_type": "code",
   "execution_count": null,
   "metadata": {
    "id": "NAbfpTQ3QFFa",
    "outputId": "4b910810-d23d-4df7-8901-ec95c8a87934"
   },
   "outputs": [
    {
     "data": {
      "image/png": "[encoded data removed]",
      "text/plain": [
       "plot without title"
      ]
     },
     "metadata": {
      "image/png": {
       "height": 420,
       "width": 420
      },
      "tags": []
     },
     "output_type": "display_data"
    }
   ],
   "source": [
    "#ROCR Curve\n",
    "library(ROCR)\n",
    "ROCRpred <- prediction(predict, occtrain$Occupancy)\n",
    "ROCRperf <- performance(ROCRpred, 'tpr','fpr')\n",
    "plot(ROCRperf, colorize = TRUE, text.adj = c(-0.2,1.7))"
   ]
  },
  {
   "cell_type": "markdown",
   "metadata": {
    "id": "QOAArJYgQFFb"
   },
   "source": [
    "### 2.2 Decision Tree"
   ]
  },
  {
   "cell_type": "code",
   "execution_count": null,
   "metadata": {
    "id": "yLlwsInIQFFb",
    "outputId": "5df0eba4-5d9e-44a4-b6d0-8544a1e5ca38"
   },
   "outputs": [
    {
     "name": "stderr",
     "output_type": "stream",
     "text": [
      "Loading required package: grid\n",
      "\n",
      "Loading required package: mvtnorm\n",
      "\n",
      "Loading required package: modeltools\n",
      "\n",
      "Loading required package: stats4\n",
      "\n",
      "Loading required package: strucchange\n",
      "\n",
      "Loading required package: zoo\n",
      "\n",
      "\n",
      "Attaching package: 'zoo'\n",
      "\n",
      "\n",
      "The following objects are masked from 'package:base':\n",
      "\n",
      "    as.Date, as.Date.numeric\n",
      "\n",
      "\n",
      "Loading required package: sandwich\n",
      "\n"
     ]
    }
   ],
   "source": [
    "library(party)"
   ]
  },
  {
   "cell_type": "code",
   "execution_count": null,
   "metadata": {
    "id": "nwOrggolQFFb"
   },
   "outputs": [],
   "source": [
    "output.tree <- ctree(\n",
    "  Occupancy ~ Temperature + Light + CO2  + Humidity + HumidityRatio, \n",
    "  data = data[,c(2,3,4,5,6,7)])"
   ]
  },
  {
   "cell_type": "code",
   "execution_count": null,
   "metadata": {
    "id": "WbKOG_9HQFFb",
    "outputId": "310eca74-f56a-4c0d-833c-13bb3d18ccd7"
   },
   "outputs": [
    {
     "data": {
      "image/png": "[encoded data removed]",
      "text/plain": [
       "plot without title"
      ]
     },
     "metadata": {
      "image/png": {
       "height": 420,
       "width": 420
      },
      "tags": []
     },
     "output_type": "display_data"
    }
   ],
   "source": [
    "plot(output.tree)"
   ]
  },
  {
   "cell_type": "markdown",
   "metadata": {
    "id": "ADYGiFOcQFFb"
   },
   "source": [
    "So we generate the Decision tree from which we can classify the Occupancy"
   ]
  },
  {
   "cell_type": "markdown",
   "metadata": {
    "id": "gToDFZBmQFFb"
   },
   "source": [
    "# Conclusion"
   ]
  },
  {
   "cell_type": "markdown",
   "metadata": {
    "id": "PSEEfpTCQFFc"
   },
   "source": [
    "So here we learnt various important statistical  methods that are very important for the purpose of analyzing data before using it in any Regression or Classification model.\n",
    "Later we implemented 2 Classification algorithms and they proved amazing and gave excellent results   \n",
    "\n",
    "  \n",
    "  \n",
    "To summarize, We covered topics like - \n",
    "\n",
    "- Correlation\n",
    "  - Pearson Correlation\n",
    "  - Spearman Correlation\n",
    "  - Kenddall Rank Correlation\n",
    "- Classification\n",
    "  - Logistic Regression\n",
    "  - Decision Tree"
   ]
  },
  {
   "cell_type": "markdown",
   "metadata": {
    "id": "C91aSwgvQFFc"
   },
   "source": [
    "!! End of the Notebook"
   ]
  }
 ],
 "metadata": {
  "colab": {
   "collapsed_sections": [],
   "name": "Assignment8.ipynb",
   "provenance": []
  },
  "kernelspec": {
   "display_name": "R",
   "language": "R",
   "name": "ir"
  },
  "language_info": {
   "codemirror_mode": "r",
   "file_extension": ".r",
   "mimetype": "text/x-r-source",
   "name": "R",
   "pygments_lexer": "r",
   "version": "4.0.4"
  }
 },
 "nbformat": 4,
 "nbformat_minor": 1
}
